{
 "cells": [
  {
   "cell_type": "code",
   "execution_count": 3,
   "id": "1769485c-82c8-40e0-9f0d-1d350fefa261",
   "metadata": {},
   "outputs": [
    {
     "name": "stdout",
     "output_type": "stream",
     "text": [
      "Reviews saved to byjus_thelearningapp_reviews.xlsx\n"
     ]
    }
   ],
   "source": [
    "import pandas as pd\n",
    "from google_play_scraper import app, Sort, reviews\n",
    "\n",
    "def get_app_reviews(package_name, num_reviews):\n",
    "    result, _ = reviews(package_name, lang='en', country='us', sort=Sort.NEWEST, count=num_reviews)\n",
    "    return result\n",
    "\n",
    "def save_reviews_to_excel(reviews, file_path):\n",
    "    review_texts = [review['content'] for review in reviews]\n",
    "    df = pd.DataFrame({'Review Text': review_texts})\n",
    "    df.to_excel(file_path, index=False)\n",
    "\n",
    "if __name__ == \"__main__\":\n",
    "    app_package_name = \"com.byjus.thelearningapp\"  # Package name for BYJU'S - The Learning App\n",
    "    num_reviews_to_extract = 10000  # Replace with the number of reviews you want to extract\n",
    "    \n",
    "    app_reviews = get_app_reviews(app_package_name, num_reviews_to_extract)\n",
    "    \n",
    "    if app_reviews:\n",
    "        file_path = \"byjus_thelearningapp_reviews.xlsx\"\n",
    "        save_reviews_to_excel(app_reviews, file_path)\n",
    "        print(f\"Reviews saved to {file_path}\")\n",
    "    else:\n",
    "        print(\"Failed to retrieve reviews.\")\n"
   ]
  },
  {
   "cell_type": "code",
   "execution_count": 4,
   "id": "20b87be8-eeef-458b-920d-c96dc2c9fdc4",
   "metadata": {},
   "outputs": [
    {
     "name": "stdout",
     "output_type": "stream",
     "text": [
      "Reviews saved to gradeup_app_reviews.xlsx\n"
     ]
    }
   ],
   "source": [
    "from google_play_scraper import app, Sort, reviews\n",
    "\n",
    "def get_app_reviews(package_name, num_reviews):\n",
    "    result, _ = reviews(package_name, lang='en', country='us', sort=Sort.NEWEST, count=num_reviews)\n",
    "    return result\n",
    "\n",
    "def save_reviews_to_file(reviews, file_path):\n",
    "    with open(file_path, 'w', encoding='utf-8') as file:\n",
    "        for review in reviews:\n",
    "            review_text = review['content']\n",
    "            file.write(review_text + '\\n')\n",
    "\n",
    "if __name__ == \"__main__\":\n",
    "    app_package_name = \"co.gradeup.android\"  # Package name for the Gradeup app\n",
    "    num_reviews_to_extract = 10000  # Replace with the number of reviews you want to extract\n",
    "    \n",
    "    app_reviews = get_app_reviews(app_package_name, num_reviews_to_extract)\n",
    "    \n",
    "    if app_reviews:\n",
    "        file_path = \"gradeup_app_reviews.xlsx\"\n",
    "        save_reviews_to_excel(app_reviews, file_path)\n",
    "        print(f\"Reviews saved to {file_path}\")\n",
    "    else:\n",
    "        print(\"Failed to retrieve reviews.\")"
   ]
  },
  {
   "cell_type": "code",
   "execution_count": 5,
   "id": "ea635b2e-4469-49d5-9ca5-7d067258029f",
   "metadata": {},
   "outputs": [
    {
     "ename": "ModuleNotFoundError",
     "evalue": "No module named 'textblob'",
     "output_type": "error",
     "traceback": [
      "\u001b[1;31m---------------------------------------------------------------------------\u001b[0m",
      "\u001b[1;31mModuleNotFoundError\u001b[0m                       Traceback (most recent call last)",
      "Cell \u001b[1;32mIn[5], line 2\u001b[0m\n\u001b[0;32m      1\u001b[0m \u001b[38;5;28;01mimport\u001b[39;00m \u001b[38;5;21;01mpandas\u001b[39;00m \u001b[38;5;28;01mas\u001b[39;00m \u001b[38;5;21;01mpd\u001b[39;00m\n\u001b[1;32m----> 2\u001b[0m \u001b[38;5;28;01mfrom\u001b[39;00m \u001b[38;5;21;01mtextblob\u001b[39;00m \u001b[38;5;28;01mimport\u001b[39;00m TextBlob\n\u001b[0;32m      4\u001b[0m \u001b[38;5;28;01mdef\u001b[39;00m \u001b[38;5;21mperform_sentiment_analysis\u001b[39m(file_path):\n\u001b[0;32m      5\u001b[0m     df \u001b[38;5;241m=\u001b[39m pd\u001b[38;5;241m.\u001b[39mread_excel(file_path)\n",
      "\u001b[1;31mModuleNotFoundError\u001b[0m: No module named 'textblob'"
     ]
    }
   ],
   "source": [
    "import pandas as pd\n",
    "from textblob import TextBlob\n",
    "\n",
    "def perform_sentiment_analysis(file_path):\n",
    "    df = pd.read_excel(file_path)\n",
    "    df['Sentiment'] = df['Review Text'].apply(lambda text: TextBlob(text).sentiment.polarity)\n",
    "    return df\n",
    "\n",
    "def save_sentiment_analysis_to_excel(result_df, file_path):\n",
    "    result_df.to_excel(file_path, index=False)\n",
    "\n",
    "if __name__ == \"__main__\":\n",
    "    input_file_path = \"C:/Users/Akshay/byjus_thelearningapp_reviews.xlsx\"  # Replace with the correct file path\n",
    "    result_df = perform_sentiment_analysis(input_file_path)\n",
    "    \n",
    "    if not result_df.empty:\n",
    "        output_file_path = \"C:/Users/Akshay/sentiment_analysis_result.xlsx\"  # Replace with the desired output file path\n",
    "        save_sentiment_analysis_to_excel(result_df, output_file_path)\n",
    "        print(f\"Sentiment analysis results saved to '{output_file_path}'.\")\n",
    "    else:\n",
    "        print(\"Failed to perform sentiment analysis.\")\n"
   ]
  },
  {
   "cell_type": "code",
   "execution_count": 6,
   "id": "5eccc1ca-9cbc-4e49-80e9-c2b62f5dc304",
   "metadata": {},
   "outputs": [
    {
     "name": "stdout",
     "output_type": "stream",
     "text": [
      "Collecting textblob\n",
      "  Downloading textblob-0.17.1-py2.py3-none-any.whl (636 kB)\n",
      "     -------------------------------------- 636.8/636.8 kB 5.0 MB/s eta 0:00:00\n",
      "Requirement already satisfied: nltk>=3.1 in c:\\users\\akshay\\anaconda3\\lib\\site-packages (from textblob) (3.7)\n",
      "Requirement already satisfied: tqdm in c:\\users\\akshay\\anaconda3\\lib\\site-packages (from nltk>=3.1->textblob) (4.64.1)\n",
      "Requirement already satisfied: joblib in c:\\users\\akshay\\anaconda3\\lib\\site-packages (from nltk>=3.1->textblob) (1.1.1)\n",
      "Requirement already satisfied: click in c:\\users\\akshay\\anaconda3\\lib\\site-packages (from nltk>=3.1->textblob) (8.0.4)\n",
      "Requirement already satisfied: regex>=2021.8.3 in c:\\users\\akshay\\anaconda3\\lib\\site-packages (from nltk>=3.1->textblob) (2022.7.9)\n",
      "Requirement already satisfied: colorama in c:\\users\\akshay\\anaconda3\\lib\\site-packages (from click->nltk>=3.1->textblob) (0.4.6)\n",
      "Installing collected packages: textblob\n",
      "Successfully installed textblob-0.17.1\n",
      "Note: you may need to restart the kernel to use updated packages.\n"
     ]
    }
   ],
   "source": [
    "pip install textblob"
   ]
  },
  {
   "cell_type": "code",
   "execution_count": 7,
   "id": "d8c9639e-b737-4e6e-b9af-efec80a1943d",
   "metadata": {},
   "outputs": [
    {
     "name": "stdout",
     "output_type": "stream",
     "text": [
      "Sentiment analysis results saved to 'C:/Users/Akshay/sentiment_analysis_result.xlsx'.\n"
     ]
    }
   ],
   "source": [
    "import pandas as pd\n",
    "from textblob import TextBlob\n",
    "\n",
    "def perform_sentiment_analysis(file_path):\n",
    "    df = pd.read_excel(file_path)\n",
    "    df['Sentiment'] = df['Review Text'].apply(lambda text: TextBlob(text).sentiment.polarity)\n",
    "    return df\n",
    "\n",
    "def save_sentiment_analysis_to_excel(result_df, file_path):\n",
    "    result_df.to_excel(file_path, index=False)\n",
    "\n",
    "if __name__ == \"__main__\":\n",
    "    input_file_path = \"C:/Users/Akshay/gradeup_app_reviews.xlsx\"  # Replace with the correct file path\n",
    "    result_df = perform_sentiment_analysis(input_file_path)\n",
    "    \n",
    "    if not result_df.empty:\n",
    "        output_file_path = \"C:/Users/Akshay/sentiment_analysis_result_gradeup.xlsx\"  # Replace with the desired output file path\n",
    "        save_sentiment_analysis_to_excel(result_df, output_file_path)\n",
    "        print(f\"Sentiment analysis results saved to '{output_file_path}'.\")\n",
    "    else:\n",
    "        print(\"Failed to perform sentiment analysis.\")\n"
   ]
  },
  {
   "cell_type": "code",
   "execution_count": 8,
   "id": "b0f1a82b-2890-41c8-8e71-aee64f7a2102",
   "metadata": {},
   "outputs": [
    {
     "name": "stdout",
     "output_type": "stream",
     "text": [
      "Sentiment analysis results saved to 'C:/Users/Akshay/sentiment_analysis_result_gradeup.xlsx'.\n"
     ]
    }
   ],
   "source": [
    "import pandas as pd\n",
    "from textblob import TextBlob\n",
    "\n",
    "def perform_sentiment_analysis(file_path):\n",
    "    df = pd.read_excel(file_path)\n",
    "    df['Sentiment'] = df['Review Text'].apply(lambda text: TextBlob(text).sentiment.polarity)\n",
    "    return df\n",
    "\n",
    "def save_sentiment_analysis_to_excel(result_df, file_path):\n",
    "    result_df.to_excel(file_path, index=False)\n",
    "\n",
    "if __name__ == \"__main__\":\n",
    "    input_file_path = \"C:/Users/Akshay/gradeup_app_reviews.xlsx\"  # Replace with the correct file path\n",
    "    result_df = perform_sentiment_analysis(input_file_path)\n",
    "    \n",
    "    if not result_df.empty:\n",
    "        output_file_path = \"C:/Users/Akshay/sentiment_analysis_result_gradeup.xlsx\"  # Replace with the desired output file path\n",
    "        save_sentiment_analysis_to_excel(result_df, output_file_path)\n",
    "        print(f\"Sentiment analysis results saved to '{output_file_path}'.\")\n",
    "    else:\n",
    "        print(\"Failed to perform sentiment analysis.\")\n"
   ]
  },
  {
   "cell_type": "code",
   "execution_count": null,
   "id": "df62c56e-3f5a-40ea-b805-8dc25cb6db88",
   "metadata": {},
   "outputs": [],
   "source": []
  }
 ],
 "metadata": {
  "kernelspec": {
   "display_name": "Python 3 (ipykernel)",
   "language": "python",
   "name": "python3"
  },
  "language_info": {
   "codemirror_mode": {
    "name": "ipython",
    "version": 3
   },
   "file_extension": ".py",
   "mimetype": "text/x-python",
   "name": "python",
   "nbconvert_exporter": "python",
   "pygments_lexer": "ipython3",
   "version": "3.10.9"
  }
 },
 "nbformat": 4,
 "nbformat_minor": 5
}
